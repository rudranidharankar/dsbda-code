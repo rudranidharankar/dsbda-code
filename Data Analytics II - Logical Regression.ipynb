{
 "cells": [
  {
   "cell_type": "code",
   "execution_count": 39,
   "metadata": {
    "execution": {
     "iopub.execute_input": "2022-03-28T05:56:12.121084Z",
     "iopub.status.busy": "2022-03-28T05:56:12.120789Z",
     "iopub.status.idle": "2022-03-28T05:56:12.126502Z",
     "shell.execute_reply": "2022-03-28T05:56:12.12553Z",
     "shell.execute_reply.started": "2022-03-28T05:56:12.12105Z"
    }
   },
   "outputs": [],
   "source": [
    "import numpy as np\n",
    "import pandas as pd\n",
    "import matplotlib.pyplot as plt\n",
    "from sklearn.model_selection import train_test_split\n",
    "from sklearn.linear_model import LogisticRegression\n",
    "from sklearn.preprocessing import StandardScaler\n",
    "from sklearn.metrics import confusion_matrix,ConfusionMatrixDisplay,accuracy_score, precision_score, recall_score\n"
   ]
  },
  {
   "cell_type": "code",
   "execution_count": 40,
   "metadata": {
    "execution": {
     "iopub.execute_input": "2022-03-28T05:56:12.132772Z",
     "iopub.status.busy": "2022-03-28T05:56:12.132147Z",
     "iopub.status.idle": "2022-03-28T05:56:12.154451Z",
     "shell.execute_reply": "2022-03-28T05:56:12.153816Z",
     "shell.execute_reply.started": "2022-03-28T05:56:12.132733Z"
    }
   },
   "outputs": [
    {
     "data": {
      "text/html": [
       "<div>\n",
       "<style scoped>\n",
       "    .dataframe tbody tr th:only-of-type {\n",
       "        vertical-align: middle;\n",
       "    }\n",
       "\n",
       "    .dataframe tbody tr th {\n",
       "        vertical-align: top;\n",
       "    }\n",
       "\n",
       "    .dataframe thead th {\n",
       "        text-align: right;\n",
       "    }\n",
       "</style>\n",
       "<table border=\"1\" class=\"dataframe\">\n",
       "  <thead>\n",
       "    <tr style=\"text-align: right;\">\n",
       "      <th></th>\n",
       "      <th>Age</th>\n",
       "      <th>EstimatedSalary</th>\n",
       "      <th>Purchased</th>\n",
       "    </tr>\n",
       "  </thead>\n",
       "  <tbody>\n",
       "    <tr>\n",
       "      <th>0</th>\n",
       "      <td>19</td>\n",
       "      <td>19000</td>\n",
       "      <td>0</td>\n",
       "    </tr>\n",
       "    <tr>\n",
       "      <th>1</th>\n",
       "      <td>35</td>\n",
       "      <td>20000</td>\n",
       "      <td>0</td>\n",
       "    </tr>\n",
       "    <tr>\n",
       "      <th>2</th>\n",
       "      <td>26</td>\n",
       "      <td>43000</td>\n",
       "      <td>0</td>\n",
       "    </tr>\n",
       "    <tr>\n",
       "      <th>3</th>\n",
       "      <td>27</td>\n",
       "      <td>57000</td>\n",
       "      <td>0</td>\n",
       "    </tr>\n",
       "    <tr>\n",
       "      <th>4</th>\n",
       "      <td>19</td>\n",
       "      <td>76000</td>\n",
       "      <td>0</td>\n",
       "    </tr>\n",
       "  </tbody>\n",
       "</table>\n",
       "</div>"
      ],
      "text/plain": [
       "   Age  EstimatedSalary  Purchased\n",
       "0   19            19000          0\n",
       "1   35            20000          0\n",
       "2   26            43000          0\n",
       "3   27            57000          0\n",
       "4   19            76000          0"
      ]
     },
     "execution_count": 40,
     "metadata": {},
     "output_type": "execute_result"
    }
   ],
   "source": [
    "df =  pd.read_csv('Social_Network_Ads.csv')\n",
    "df.head(5)"
   ]
  },
  {
   "cell_type": "code",
   "execution_count": 41,
   "metadata": {
    "execution": {
     "iopub.execute_input": "2022-03-28T05:56:12.156189Z",
     "iopub.status.busy": "2022-03-28T05:56:12.155783Z",
     "iopub.status.idle": "2022-03-28T05:56:12.168271Z",
     "shell.execute_reply": "2022-03-28T05:56:12.16744Z",
     "shell.execute_reply.started": "2022-03-28T05:56:12.156157Z"
    }
   },
   "outputs": [
    {
     "name": "stdout",
     "output_type": "stream",
     "text": [
      "<class 'pandas.core.frame.DataFrame'>\n",
      "RangeIndex: 400 entries, 0 to 399\n",
      "Data columns (total 3 columns):\n",
      " #   Column           Non-Null Count  Dtype\n",
      "---  ------           --------------  -----\n",
      " 0   Age              400 non-null    int64\n",
      " 1   EstimatedSalary  400 non-null    int64\n",
      " 2   Purchased        400 non-null    int64\n",
      "dtypes: int64(3)\n",
      "memory usage: 9.5 KB\n"
     ]
    }
   ],
   "source": [
    "df.info()"
   ]
  },
  {
   "cell_type": "code",
   "execution_count": 42,
   "metadata": {
    "execution": {
     "iopub.execute_input": "2022-03-28T05:56:12.169874Z",
     "iopub.status.busy": "2022-03-28T05:56:12.1695Z",
     "iopub.status.idle": "2022-03-28T05:56:12.197315Z",
     "shell.execute_reply": "2022-03-28T05:56:12.196382Z",
     "shell.execute_reply.started": "2022-03-28T05:56:12.169844Z"
    }
   },
   "outputs": [
    {
     "data": {
      "text/html": [
       "<div>\n",
       "<style scoped>\n",
       "    .dataframe tbody tr th:only-of-type {\n",
       "        vertical-align: middle;\n",
       "    }\n",
       "\n",
       "    .dataframe tbody tr th {\n",
       "        vertical-align: top;\n",
       "    }\n",
       "\n",
       "    .dataframe thead th {\n",
       "        text-align: right;\n",
       "    }\n",
       "</style>\n",
       "<table border=\"1\" class=\"dataframe\">\n",
       "  <thead>\n",
       "    <tr style=\"text-align: right;\">\n",
       "      <th></th>\n",
       "      <th>Age</th>\n",
       "      <th>EstimatedSalary</th>\n",
       "      <th>Purchased</th>\n",
       "    </tr>\n",
       "  </thead>\n",
       "  <tbody>\n",
       "    <tr>\n",
       "      <th>count</th>\n",
       "      <td>400.000000</td>\n",
       "      <td>400.000000</td>\n",
       "      <td>400.000000</td>\n",
       "    </tr>\n",
       "    <tr>\n",
       "      <th>mean</th>\n",
       "      <td>37.655000</td>\n",
       "      <td>69742.500000</td>\n",
       "      <td>0.357500</td>\n",
       "    </tr>\n",
       "    <tr>\n",
       "      <th>std</th>\n",
       "      <td>10.482877</td>\n",
       "      <td>34096.960282</td>\n",
       "      <td>0.479864</td>\n",
       "    </tr>\n",
       "    <tr>\n",
       "      <th>min</th>\n",
       "      <td>18.000000</td>\n",
       "      <td>15000.000000</td>\n",
       "      <td>0.000000</td>\n",
       "    </tr>\n",
       "    <tr>\n",
       "      <th>25%</th>\n",
       "      <td>29.750000</td>\n",
       "      <td>43000.000000</td>\n",
       "      <td>0.000000</td>\n",
       "    </tr>\n",
       "    <tr>\n",
       "      <th>50%</th>\n",
       "      <td>37.000000</td>\n",
       "      <td>70000.000000</td>\n",
       "      <td>0.000000</td>\n",
       "    </tr>\n",
       "    <tr>\n",
       "      <th>75%</th>\n",
       "      <td>46.000000</td>\n",
       "      <td>88000.000000</td>\n",
       "      <td>1.000000</td>\n",
       "    </tr>\n",
       "    <tr>\n",
       "      <th>max</th>\n",
       "      <td>60.000000</td>\n",
       "      <td>150000.000000</td>\n",
       "      <td>1.000000</td>\n",
       "    </tr>\n",
       "  </tbody>\n",
       "</table>\n",
       "</div>"
      ],
      "text/plain": [
       "              Age  EstimatedSalary   Purchased\n",
       "count  400.000000       400.000000  400.000000\n",
       "mean    37.655000     69742.500000    0.357500\n",
       "std     10.482877     34096.960282    0.479864\n",
       "min     18.000000     15000.000000    0.000000\n",
       "25%     29.750000     43000.000000    0.000000\n",
       "50%     37.000000     70000.000000    0.000000\n",
       "75%     46.000000     88000.000000    1.000000\n",
       "max     60.000000    150000.000000    1.000000"
      ]
     },
     "execution_count": 42,
     "metadata": {},
     "output_type": "execute_result"
    }
   ],
   "source": [
    "df.describe()"
   ]
  },
  {
   "cell_type": "code",
   "execution_count": 43,
   "metadata": {
    "execution": {
     "iopub.execute_input": "2022-03-28T05:56:12.199443Z",
     "iopub.status.busy": "2022-03-28T05:56:12.199078Z",
     "iopub.status.idle": "2022-03-28T05:56:12.207181Z",
     "shell.execute_reply": "2022-03-28T05:56:12.206225Z",
     "shell.execute_reply.started": "2022-03-28T05:56:12.199413Z"
    }
   },
   "outputs": [
    {
     "data": {
      "text/plain": [
       "Age                0\n",
       "EstimatedSalary    0\n",
       "Purchased          0\n",
       "dtype: int64"
      ]
     },
     "execution_count": 43,
     "metadata": {},
     "output_type": "execute_result"
    }
   ],
   "source": [
    "df.isnull().sum()"
   ]
  },
  {
   "cell_type": "code",
   "execution_count": 44,
   "metadata": {
    "execution": {
     "iopub.execute_input": "2022-03-28T05:56:12.208944Z",
     "iopub.status.busy": "2022-03-28T05:56:12.208559Z",
     "iopub.status.idle": "2022-03-28T05:56:12.219557Z",
     "shell.execute_reply": "2022-03-28T05:56:12.218833Z",
     "shell.execute_reply.started": "2022-03-28T05:56:12.2089Z"
    }
   },
   "outputs": [
    {
     "data": {
      "text/plain": [
       "(400, 3)"
      ]
     },
     "execution_count": 44,
     "metadata": {},
     "output_type": "execute_result"
    }
   ],
   "source": [
    "df.shape"
   ]
  },
  {
   "cell_type": "code",
   "execution_count": 45,
   "metadata": {
    "execution": {
     "iopub.execute_input": "2022-03-28T05:56:12.221059Z",
     "iopub.status.busy": "2022-03-28T05:56:12.220553Z",
     "iopub.status.idle": "2022-03-28T05:56:12.236492Z",
     "shell.execute_reply": "2022-03-28T05:56:12.235658Z",
     "shell.execute_reply.started": "2022-03-28T05:56:12.221028Z"
    }
   },
   "outputs": [
    {
     "data": {
      "text/html": [
       "<div>\n",
       "<style scoped>\n",
       "    .dataframe tbody tr th:only-of-type {\n",
       "        vertical-align: middle;\n",
       "    }\n",
       "\n",
       "    .dataframe tbody tr th {\n",
       "        vertical-align: top;\n",
       "    }\n",
       "\n",
       "    .dataframe thead th {\n",
       "        text-align: right;\n",
       "    }\n",
       "</style>\n",
       "<table border=\"1\" class=\"dataframe\">\n",
       "  <thead>\n",
       "    <tr style=\"text-align: right;\">\n",
       "      <th></th>\n",
       "      <th>Age</th>\n",
       "      <th>EstimatedSalary</th>\n",
       "      <th>Purchased</th>\n",
       "    </tr>\n",
       "  </thead>\n",
       "  <tbody>\n",
       "    <tr>\n",
       "      <th>0</th>\n",
       "      <td>19</td>\n",
       "      <td>19000</td>\n",
       "      <td>0</td>\n",
       "    </tr>\n",
       "    <tr>\n",
       "      <th>1</th>\n",
       "      <td>35</td>\n",
       "      <td>20000</td>\n",
       "      <td>0</td>\n",
       "    </tr>\n",
       "    <tr>\n",
       "      <th>2</th>\n",
       "      <td>26</td>\n",
       "      <td>43000</td>\n",
       "      <td>0</td>\n",
       "    </tr>\n",
       "    <tr>\n",
       "      <th>3</th>\n",
       "      <td>27</td>\n",
       "      <td>57000</td>\n",
       "      <td>0</td>\n",
       "    </tr>\n",
       "    <tr>\n",
       "      <th>4</th>\n",
       "      <td>19</td>\n",
       "      <td>76000</td>\n",
       "      <td>0</td>\n",
       "    </tr>\n",
       "  </tbody>\n",
       "</table>\n",
       "</div>"
      ],
      "text/plain": [
       "   Age  EstimatedSalary  Purchased\n",
       "0   19            19000          0\n",
       "1   35            20000          0\n",
       "2   26            43000          0\n",
       "3   27            57000          0\n",
       "4   19            76000          0"
      ]
     },
     "execution_count": 45,
     "metadata": {},
     "output_type": "execute_result"
    }
   ],
   "source": [
    "df.head()"
   ]
  },
  {
   "cell_type": "code",
   "execution_count": 46,
   "metadata": {
    "execution": {
     "iopub.execute_input": "2022-03-28T05:56:12.238099Z",
     "iopub.status.busy": "2022-03-28T05:56:12.237546Z",
     "iopub.status.idle": "2022-03-28T05:56:12.24135Z",
     "shell.execute_reply": "2022-03-28T05:56:12.240744Z",
     "shell.execute_reply.started": "2022-03-28T05:56:12.238067Z"
    }
   },
   "outputs": [],
   "source": [
    "# data['']"
   ]
  },
  {
   "cell_type": "code",
   "execution_count": 47,
   "metadata": {
    "execution": {
     "iopub.execute_input": "2022-03-28T05:56:12.243048Z",
     "iopub.status.busy": "2022-03-28T05:56:12.242295Z",
     "iopub.status.idle": "2022-03-28T05:56:12.255369Z",
     "shell.execute_reply": "2022-03-28T05:56:12.25466Z",
     "shell.execute_reply.started": "2022-03-28T05:56:12.243016Z"
    }
   },
   "outputs": [],
   "source": [
    "x = df.iloc[:,2:4]"
   ]
  },
  {
   "cell_type": "code",
   "execution_count": 48,
   "metadata": {
    "execution": {
     "iopub.execute_input": "2022-03-28T05:56:12.257132Z",
     "iopub.status.busy": "2022-03-28T05:56:12.25682Z",
     "iopub.status.idle": "2022-03-28T05:56:12.267422Z",
     "shell.execute_reply": "2022-03-28T05:56:12.266475Z",
     "shell.execute_reply.started": "2022-03-28T05:56:12.257093Z"
    }
   },
   "outputs": [],
   "source": [
    "y = df.iloc[:,2]\n"
   ]
  },
  {
   "cell_type": "code",
   "execution_count": 49,
   "metadata": {
    "execution": {
     "iopub.execute_input": "2022-03-28T05:56:12.270011Z",
     "iopub.status.busy": "2022-03-28T05:56:12.269612Z",
     "iopub.status.idle": "2022-03-28T05:56:12.281147Z",
     "shell.execute_reply": "2022-03-28T05:56:12.2803Z",
     "shell.execute_reply.started": "2022-03-28T05:56:12.26996Z"
    }
   },
   "outputs": [],
   "source": [
    "x_train, x_test, y_train, y_test = train_test_split(x, y, test_size=0.25, random_state=42)"
   ]
  },
  {
   "cell_type": "code",
   "execution_count": 50,
   "metadata": {
    "execution": {
     "iopub.execute_input": "2022-03-28T05:56:12.282712Z",
     "iopub.status.busy": "2022-03-28T05:56:12.282317Z",
     "iopub.status.idle": "2022-03-28T05:56:12.297258Z",
     "shell.execute_reply": "2022-03-28T05:56:12.296284Z",
     "shell.execute_reply.started": "2022-03-28T05:56:12.28268Z"
    }
   },
   "outputs": [],
   "source": [
    "scale = StandardScaler()\n",
    "x_train = scale.fit_transform(x_train)\n",
    "x_test = scale.transform(x_test)"
   ]
  },
  {
   "cell_type": "code",
   "execution_count": 51,
   "metadata": {
    "execution": {
     "iopub.execute_input": "2022-03-28T05:56:12.2996Z",
     "iopub.status.busy": "2022-03-28T05:56:12.298973Z",
     "iopub.status.idle": "2022-03-28T05:56:12.322226Z",
     "shell.execute_reply": "2022-03-28T05:56:12.321372Z",
     "shell.execute_reply.started": "2022-03-28T05:56:12.299554Z"
    }
   },
   "outputs": [
    {
     "name": "stdout",
     "output_type": "stream",
     "text": [
      "[[-0.73918317]\n",
      " [ 1.35284466]\n",
      " [-0.73918317]\n",
      " [ 1.35284466]\n",
      " [-0.73918317]\n",
      " [-0.73918317]\n",
      " [ 1.35284466]\n",
      " [-0.73918317]\n",
      " [-0.73918317]\n",
      " [-0.73918317]]\n",
      "---------------\n",
      "[0 1 0 1 0 0 1 0 0 0]\n"
     ]
    }
   ],
   "source": [
    "lr = LogisticRegression(random_state = 0,solver = 'lbfgs')\n",
    "lr.fit(x_train,y_train)\n",
    "pred = lr.predict(x_test)\n",
    "       \n",
    "print(x_test[:10])\n",
    "print('-'*15)\n",
    "print(pred[:10])"
   ]
  },
  {
   "cell_type": "code",
   "execution_count": 52,
   "metadata": {
    "execution": {
     "iopub.execute_input": "2022-03-28T05:56:12.324204Z",
     "iopub.status.busy": "2022-03-28T05:56:12.323673Z",
     "iopub.status.idle": "2022-03-28T05:56:12.330477Z",
     "shell.execute_reply": "2022-03-28T05:56:12.329657Z",
     "shell.execute_reply.started": "2022-03-28T05:56:12.324168Z"
    }
   },
   "outputs": [
    {
     "name": "stdout",
     "output_type": "stream",
     "text": [
      "[0 1 0 1 0 0 1 0 0 0 0 1 0 0 0 0 1 0 0 1]\n",
      "---------------\n",
      "209    0\n",
      "280    1\n",
      "33     0\n",
      "210    1\n",
      "93     0\n",
      "84     0\n",
      "329    1\n",
      "94     0\n",
      "266    0\n",
      "126    0\n",
      "9      0\n",
      "361    1\n",
      "56     0\n",
      "72     0\n",
      "132    0\n",
      "42     0\n",
      "278    1\n",
      "376    0\n",
      "231    0\n",
      "385    1\n",
      "Name: Purchased, dtype: int64\n"
     ]
    }
   ],
   "source": [
    "print(pred[:20])\n",
    "print('-'*15)\n",
    "print(y_test[:20])"
   ]
  },
  {
   "cell_type": "code",
   "execution_count": 53,
   "metadata": {
    "execution": {
     "iopub.execute_input": "2022-03-28T05:56:12.333141Z",
     "iopub.status.busy": "2022-03-28T05:56:12.33178Z",
     "iopub.status.idle": "2022-03-28T05:56:12.344596Z",
     "shell.execute_reply": "2022-03-28T05:56:12.343674Z",
     "shell.execute_reply.started": "2022-03-28T05:56:12.333094Z"
    }
   },
   "outputs": [
    {
     "name": "stdout",
     "output_type": "stream",
     "text": [
      "[[63  0]\n",
      " [ 0 37]]\n"
     ]
    }
   ],
   "source": [
    "\n",
    "matrix = confusion_matrix(y_test,pred,labels = lr.classes_)\n",
    "print(matrix)\n",
    "\n",
    "tp, fn, fp, tn = confusion_matrix(y_test,pred,labels=[1,0]).reshape(-1)"
   ]
  },
  {
   "cell_type": "code",
   "execution_count": 54,
   "metadata": {
    "execution": {
     "iopub.execute_input": "2022-03-28T05:56:12.346818Z",
     "iopub.status.busy": "2022-03-28T05:56:12.346247Z",
     "iopub.status.idle": "2022-03-28T05:56:12.568744Z",
     "shell.execute_reply": "2022-03-28T05:56:12.56794Z",
     "shell.execute_reply.started": "2022-03-28T05:56:12.346772Z"
    }
   },
   "outputs": [
    {
     "data": {
      "image/png": "[encoded data removed]",
      "text/plain": [
       "<Figure size 640x480 with 2 Axes>"
      ]
     },
     "metadata": {},
     "output_type": "display_data"
    }
   ],
   "source": [
    "conf_matrix = ConfusionMatrixDisplay(confusion_matrix=matrix,display_labels=lr.classes_)\n",
    "conf_matrix.plot(cmap=plt.cm.Blues)\n",
    "plt.show()"
   ]
  },
  {
   "cell_type": "code",
   "execution_count": 55,
   "metadata": {
    "execution": {
     "iopub.execute_input": "2022-03-28T05:56:12.56992Z",
     "iopub.status.busy": "2022-03-28T05:56:12.569719Z",
     "iopub.status.idle": "2022-03-28T05:56:12.579534Z",
     "shell.execute_reply": "2022-03-28T05:56:12.578649Z",
     "shell.execute_reply.started": "2022-03-28T05:56:12.569896Z"
    }
   },
   "outputs": [
    {
     "name": "stdout",
     "output_type": "stream",
     "text": [
      "              precision    recall  f1-score   support\n",
      "\n",
      "           0       1.00      1.00      1.00        63\n",
      "           1       1.00      1.00      1.00        37\n",
      "\n",
      "    accuracy                           1.00       100\n",
      "   macro avg       1.00      1.00      1.00       100\n",
      "weighted avg       1.00      1.00      1.00       100\n",
      "\n"
     ]
    }
   ],
   "source": [
    "print(classification_report(y_test,pred))"
   ]
  },
  {
   "cell_type": "code",
   "execution_count": 56,
   "metadata": {
    "execution": {
     "iopub.execute_input": "2022-05-02T12:08:05.248455Z",
     "iopub.status.busy": "2022-05-02T12:08:05.247907Z",
     "iopub.status.idle": "2022-05-02T12:08:05.340928Z",
     "shell.execute_reply": "2022-05-02T12:08:05.339965Z",
     "shell.execute_reply.started": "2022-05-02T12:08:05.248339Z"
    }
   },
   "outputs": [
    {
     "name": "stdout",
     "output_type": "stream",
     "text": [
      "\n",
      "Accuracy: 1.00\n",
      "Error Rate:  0.0\n",
      "Sensitivity (Recall or True positive rate) : 1.0\n",
      "Specificity (True negative rate) : 1.0\n",
      "Precision (Positive predictive value) : 1.0\n",
      "False Positive Rate : 0.0\n"
     ]
    }
   ],
   "source": [
    "print('\\nAccuracy: {:.2f}'.format(accuracy_score(y_test,pred)))\n",
    "print('Error Rate: ',(fp+fn)/(tp+tn+fn+fp))\n",
    "print('Sensitivity (Recall or True positive rate) :',tp/(tp+fn))\n",
    "print('Specificity (True negative rate) :',tn/(fp+tn))\n",
    "print('Precision (Positive predictive value) :',tp/(tp+fp))\n",
    "print('False Positive Rate :',fp/(tn+fp))"
   ]
  },
  {
   "cell_type": "code",
   "execution_count": null,
   "metadata": {},
   "outputs": [],
   "source": []
  },
  {
   "cell_type": "code",
   "execution_count": null,
   "metadata": {},
   "outputs": [],
   "source": []
  },
  {
   "cell_type": "code",
   "execution_count": null,
   "metadata": {},
   "outputs": [],
   "source": []
  }
 ],
 "metadata": {
  "kernelspec": {
   "display_name": "Python 3 (ipykernel)",
   "language": "python",
   "name": "python3"
  },
  "language_info": {
   "codemirror_mode": {
    "name": "ipython",
    "version": 3
   },
   "file_extension": ".py",
   "mimetype": "text/x-python",
   "name": "python",
   "nbconvert_exporter": "python",
   "pygments_lexer": "ipython3",
   "version": "3.11.5"
  }
 },
 "nbformat": 4,
 "nbformat_minor": 4
}
